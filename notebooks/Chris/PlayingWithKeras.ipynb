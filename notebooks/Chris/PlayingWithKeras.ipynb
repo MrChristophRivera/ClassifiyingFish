{
 "cells": [
  {
   "cell_type": "markdown",
   "metadata": {},
   "source": [
    "### To start learning how to use Keras. \n",
    "This is based on the Keras tutorials"
   ]
  },
  {
   "cell_type": "code",
   "execution_count": 1,
   "metadata": {
    "collapsed": false
   },
   "outputs": [
    {
     "name": "stderr",
     "output_type": "stream",
     "text": [
      "Using TensorFlow backend.\n"
     ]
    }
   ],
   "source": [
    "from keras.models import Sequential\n",
    "from keras.layers import Dense, Activation\n",
    "import numpy as np\n",
    "import matplotlib.pyplot as plt\n",
    "#from IPython.display import SVG\n",
    "#from keras.utils.visualize_util import model_to_dot\n",
    "\n",
    "\n",
    "\n",
    "%matplotlib inline\n",
    "model = Sequential()"
   ]
  },
  {
   "cell_type": "code",
   "execution_count": 2,
   "metadata": {
    "collapsed": false
   },
   "outputs": [],
   "source": [
    "# stack layers\n",
    "model.add(Dense(output_dim = 64, input_dim=100))\n",
    "model.add(Activation('relu'))\n",
    "model.add(Dense(output_dim=10))\n",
    "model.add(Activation('softmax'))"
   ]
  },
  {
   "cell_type": "code",
   "execution_count": 3,
   "metadata": {
    "collapsed": false
   },
   "outputs": [],
   "source": [
    "# compile the model with the complie\n",
    "model.compile(loss='categorical_crossentropy', optimizer = 'sgd', \n",
    "             momentum = 0.9, nesterov = True)"
   ]
  },
  {
   "cell_type": "markdown",
   "metadata": {},
   "source": [
    "### Getting started with the Keras Sequential model\n",
    "Look [here.](https://keras.io/getting-started/sequential-model-guide/)"
   ]
  },
  {
   "cell_type": "code",
   "execution_count": 4,
   "metadata": {
    "collapsed": false
   },
   "outputs": [],
   "source": [
    "from keras.models import Sequential\n",
    "from keras.layers import Dense,Activation"
   ]
  },
  {
   "cell_type": "code",
   "execution_count": 5,
   "metadata": {
    "collapsed": true
   },
   "outputs": [],
   "source": [
    "# crete a list of layers and create a model\n",
    "model = Sequential([\n",
    "        Dense(32,input_dim=784),\n",
    "        Activation('relu'),\n",
    "        Dense(10),\n",
    "        Activation('softmax')\n",
    "    ])"
   ]
  },
  {
   "cell_type": "code",
   "execution_count": 6,
   "metadata": {
    "collapsed": true
   },
   "outputs": [],
   "source": [
    "# create a model with the add method\n",
    "model= Sequential()\n",
    "model.add(Dense(32, input_dim = 784))\n",
    "model.add(Activation('relu'))"
   ]
  },
  {
   "cell_type": "markdown",
   "metadata": {},
   "source": [
    "### Specifying input shape\n",
    "The first layer of the Sequential class needs to have information about how the data will be added. The other layers infer it. \n",
    "options:\n",
    "\n",
    "- `input_shape`: a tuple\n",
    "\n",
    "- `batch_input_shape`: the batch dimension is included. \n",
    "\n",
    "- Some layers use input_dim "
   ]
  },
  {
   "cell_type": "code",
   "execution_count": 7,
   "metadata": {
    "collapsed": false
   },
   "outputs": [],
   "source": [
    "# 3 ways to start the first layer\n",
    "# A \n",
    "model= Sequential()\n",
    "model.add(Dense(32, input_shape=( 784,)))\n",
    "\n",
    "# B\n",
    "model= Sequential()\n",
    "model.add(Dense(32, input_shape=(None, 784))) # The model can use any batch dimension here\n",
    "     \n",
    "model= Sequential()\n",
    "model.add(Dense(32, input_dim=784)) #not ehte input dim\n"
   ]
  },
  {
   "cell_type": "markdown",
   "metadata": {},
   "source": [
    "### The Merge layer \n",
    "This allows two sequentials to be merged together.  We can use this to train two diffent types of models on the same data and then merge them. \n",
    "\n",
    "The merge can combine using multiple operations\n",
    "\n",
    "- sum \n",
    "- concat\n",
    "- mul: element wise multiplication\n",
    "- dot: matrix multiplication\n",
    "- cos: cosine similarity\n",
    "- mode allows for arbitary tranformation"
   ]
  },
  {
   "cell_type": "code",
   "execution_count": 8,
   "metadata": {
    "collapsed": false
   },
   "outputs": [],
   "source": [
    "from keras.datasets import cifar10\n",
    "\n",
    "(X_train, y_train), (X_test, y_test) = cifar10.load_data()\n",
    "from keras.layers import Merge\n",
    "\n",
    "left_branch = Sequential()\n",
    "left_branch.add(Dense(32,input_dim= 784))\n",
    "\n",
    "right_branch = Sequential()\n",
    "right_branch.add(Dense(32,input_dim=784))\n",
    "\n",
    "merged = Merge([left_branch, right_branch], mode = 'concat')\n",
    "\n",
    "final_model = Sequential()\n",
    "final_model.add(merged)\n",
    "final_model.add(Dense(10,activation='softmax'))\n",
    "# compile the model with rmsprop and cross_entropy\n",
    "final_model.compile(optimizer='rmsprop', loss='categorical_crossentropy')"
   ]
  },
  {
   "cell_type": "markdown",
   "metadata": {},
   "source": [
    "### Compilation: \n",
    "Sets up the learning process with the compile method.\n",
    "Has three inputs:\n",
    "- optimizer - such as rmsprop, adagrad\n",
    "- loss function - such as categorical_cross_entropy, mse\n",
    "- list of metrics, can include a list of metrics\n"
   ]
  },
  {
   "cell_type": "code",
   "execution_count": 9,
   "metadata": {
    "collapsed": false
   },
   "outputs": [],
   "source": [
    "# for a multi-class classification problem\n",
    "model.compile(optimizer = 'rmsprop',\n",
    "             loss = 'categorical_crossentropy',\n",
    "             metrics = ['accuracy'])\n",
    "\n",
    "# for binary\n",
    "model.compile(optimizer= 'rmsprop',\n",
    "              loss = 'binary_crossentropy',\n",
    "              metrics = ['accuracy'])\n",
    "\n",
    "# for regression\n",
    "model.compile(optimizer = 'rmsprop',\n",
    "             loss = 'mse')"
   ]
  },
  {
   "cell_type": "markdown",
   "metadata": {},
   "source": [
    "### Training"
   ]
  },
  {
   "cell_type": "code",
   "execution_count": 10,
   "metadata": {
    "collapsed": false
   },
   "outputs": [],
   "source": [
    "### Training a model  This is just one layer model\n",
    "model = Sequential()\n",
    "model.add(Dense(1, input_dim=784, activation = 'sigmoid'))\n",
    "model.compile(optimizer = 'rmsprop',\n",
    "             loss = 'binary_crossentropy',\n",
    "             metrics = ['accuracy'])"
   ]
  },
  {
   "cell_type": "code",
   "execution_count": 11,
   "metadata": {
    "collapsed": false
   },
   "outputs": [
    {
     "name": "stdout",
     "output_type": "stream",
     "text": [
      "Epoch 1/10\n",
      "10000/10000 [==============================] - 0s - loss: 2.2908 - acc: 0.5603     \n",
      "Epoch 2/10\n",
      "10000/10000 [==============================] - 0s - loss: 0.7362 - acc: 0.7553     \n",
      "Epoch 3/10\n",
      "10000/10000 [==============================] - 0s - loss: 0.2232 - acc: 0.9034     \n",
      "Epoch 4/10\n",
      "10000/10000 [==============================] - 0s - loss: 0.1367 - acc: 0.9539     \n",
      "Epoch 5/10\n",
      "10000/10000 [==============================] - 0s - loss: 0.1193 - acc: 0.9617     \n",
      "Epoch 6/10\n",
      "10000/10000 [==============================] - 0s - loss: 0.1086 - acc: 0.9633     \n",
      "Epoch 7/10\n",
      "10000/10000 [==============================] - 0s - loss: 0.1010 - acc: 0.9682     \n",
      "Epoch 8/10\n",
      "10000/10000 [==============================] - 0s - loss: 0.0947 - acc: 0.9712     \n",
      "Epoch 9/10\n",
      "10000/10000 [==============================] - 0s - loss: 0.0883 - acc: 0.9732     \n",
      "Epoch 10/10\n",
      "10000/10000 [==============================] - 0s - loss: 0.0846 - acc: 0.9742     \n"
     ]
    },
    {
     "data": {
      "text/plain": [
       "<keras.callbacks.History at 0x11998fd50>"
      ]
     },
     "execution_count": 11,
     "metadata": {},
     "output_type": "execute_result"
    }
   ],
   "source": [
    "#set up some data\n",
    "data = 20*np.random.random((10000,784))-10\n",
    "\n",
    "def classify(x):\n",
    "    return int(x.sum()>0)\n",
    "    \n",
    "    \n",
    "#labels = np.random.randint(2,size =(1000,1))\n",
    "labels = np.array([classify(x) for x in data])\n",
    "# train the above model on the random data\n",
    "model.fit(data,labels,nb_epoch=10, batch_size = 100)"
   ]
  },
  {
   "cell_type": "code",
   "execution_count": 12,
   "metadata": {
    "collapsed": false
   },
   "outputs": [
    {
     "name": "stdout",
     "output_type": "stream",
     "text": [
      "Epoch 1/10\n",
      "1000/1000 [==============================] - 0s - loss: 2.9783 - acc: 0.1070     \n",
      "Epoch 2/10\n",
      "1000/1000 [==============================] - 0s - loss: 2.5661 - acc: 0.1380     \n",
      "Epoch 3/10\n",
      "1000/1000 [==============================] - 0s - loss: 2.5294 - acc: 0.1510     \n",
      "Epoch 4/10\n",
      "1000/1000 [==============================] - 0s - loss: 2.3343 - acc: 0.1730     \n",
      "Epoch 5/10\n",
      "1000/1000 [==============================] - 0s - loss: 2.2762 - acc: 0.2060     \n",
      "Epoch 6/10\n",
      "1000/1000 [==============================] - 0s - loss: 2.1873 - acc: 0.2380     \n",
      "Epoch 7/10\n",
      "1000/1000 [==============================] - 0s - loss: 2.0263 - acc: 0.2980     \n",
      "Epoch 8/10\n",
      "1000/1000 [==============================] - 0s - loss: 2.0220 - acc: 0.3010     \n",
      "Epoch 9/10\n",
      "1000/1000 [==============================] - 0s - loss: 1.8964 - acc: 0.3560     \n",
      "Epoch 10/10\n",
      "1000/1000 [==============================] - 0s - loss: 1.7874 - acc: 0.3670     \n"
     ]
    },
    {
     "data": {
      "text/plain": [
       "<keras.callbacks.History at 0x12266ffd0>"
      ]
     },
     "execution_count": 12,
     "metadata": {},
     "output_type": "execute_result"
    }
   ],
   "source": [
    "# For multi-input with 10 classes\n",
    "\n",
    "# set up a  left branch\n",
    "left_branch = Sequential()\n",
    "left_branch.add(Dense(32, input_dim = 784))\n",
    "\n",
    "# set up a right branch\n",
    "right_branch = Sequential()\n",
    "right_branch.add(Dense(32, input_dim = 784))\n",
    "\n",
    "\n",
    "\n",
    "# create a downstream model and add the merged then a softmax layer\n",
    "merged= Merge([left_branch, right_branch], mode = 'concat')\n",
    "model = Sequential()\n",
    "model.add(merged)\n",
    "model.add(Dense(10, activation = 'softmax'))\n",
    "\n",
    "model.compile(optimizer = 'rmsprop',\n",
    "             loss = 'categorical_crossentropy', \n",
    "             metrics = ['accuracy'])\n",
    "\n",
    "# generage some dummy data\n",
    "from keras.utils.np_utils import to_categorical\n",
    "data_1 = np.random.random((1000,784))\n",
    "data_2 = np.random.random((1000,784))\n",
    "\n",
    "# these are integers between 0 and 9\n",
    "labels = np.random.randint(10, size=(1000, 1))\n",
    "# we convert the labels to a binary matrix of size (1000, 10)\n",
    "# for use with categorical_crossentropy\n",
    "labels = to_categorical(labels, 10)\n",
    "\n",
    "# train the model \n",
    "model.fit([data_1, data_2], labels, nb_epoch=10, batch_size = 32)\n",
    "\n"
   ]
  },
  {
   "cell_type": "markdown",
   "metadata": {},
   "source": [
    "### My own model \n",
    "Below, I am trying to use a simple model to fit a line polynomial"
   ]
  },
  {
   "cell_type": "code",
   "execution_count": 13,
   "metadata": {
    "collapsed": false
   },
   "outputs": [
    {
     "data": {
      "text/plain": [
       "<matplotlib.collections.PathCollection at 0x10aa89850>"
      ]
     },
     "execution_count": 13,
     "metadata": {},
     "output_type": "execute_result"
    },
    {
     "data": {
      "image/png": "[encoded data removed]",
      "text/plain": [
       "<matplotlib.figure.Figure at 0x11998f810>"
      ]
     },
     "metadata": {},
     "output_type": "display_data"
    }
   ],
   "source": [
    "# generate some data\n",
    "n = 1000\n",
    "X_train = np.random.uniform(0,100,n)\n",
    "y_train = 2.0*X_train**2 + np.random.normal(0,1,n)\n",
    "\n",
    "X_test= np.random.uniform(0,100,n)\n",
    "y_test=2.0*X_test**2 + np.random.normal(0,1,)\n",
    "plt.scatter(X_train,y_train)"
   ]
  },
  {
   "cell_type": "code",
   "execution_count": 14,
   "metadata": {
    "collapsed": false
   },
   "outputs": [
    {
     "data": {
      "text/plain": [
       "<keras.callbacks.History at 0x10af02d90>"
      ]
     },
     "execution_count": 14,
     "metadata": {},
     "output_type": "execute_result"
    }
   ],
   "source": [
    "model = Sequential()\n",
    "model.add(Dense(1000, input_dim=1, activation = 'sigmoid'))\n",
    "model.add(Dense(10,activation = 'linear'))\n",
    "model.add(Dense(1, activation = 'linear'))\n",
    "\n",
    "\n",
    "model.compile(optimizer = 'adam',loss = 'mean_squared_error')\n",
    "model.fit(X_train, y_train, nb_epoch=1000, batch_size = 32, verbose = 0)"
   ]
  },
  {
   "cell_type": "code",
   "execution_count": 15,
   "metadata": {
    "collapsed": false
   },
   "outputs": [
    {
     "data": {
      "text/plain": [
       "<matplotlib.collections.PathCollection at 0x10b2aff50>"
      ]
     },
     "execution_count": 15,
     "metadata": {},
     "output_type": "execute_result"
    },
    {
     "data": {
      "image/png": "[encoded data removed]",
      "text/plain": [
       "<matplotlib.figure.Figure at 0x10aaba1d0>"
      ]
     },
     "metadata": {},
     "output_type": "display_data"
    }
   ],
   "source": [
    "pred = model.predict(X_test)\n",
    "plt.scatter(X_test, pred)"
   ]
  },
  {
   "cell_type": "code",
   "execution_count": 20,
   "metadata": {
    "collapsed": false
   },
   "outputs": [
    {
     "data": {
      "text/plain": [
       "<matplotlib.collections.PathCollection at 0x10b39a850>"
      ]
     },
     "execution_count": 20,
     "metadata": {},
     "output_type": "execute_result"
    },
    {
     "data": {
      "image/png": "[encoded data removed]",
      "text/plain": [
       "<matplotlib.figure.Figure at 0x121475dd0>"
      ]
     },
     "metadata": {},
     "output_type": "display_data"
    }
   ],
   "source": [
    "plt.scatter(y_test,pred)"
   ]
  },
  {
   "cell_type": "markdown",
   "metadata": {},
   "source": [
    "### Examples\n",
    "\n",
    "I am playing with some of these examples."
   ]
  },
  {
   "cell_type": "markdown",
   "metadata": {},
   "source": [
    "```python\n",
    "\n",
    "from keras.layers import Dense, Dropout, Activation\n",
    "from keras.optimizer import SGD\n",
    "\n",
    "model = Sequential()\n",
    "\n",
    "# add dense layer of 20 nueron\n",
    "model.add(Dense(64, input_dim=20, init='uniform'))\n",
    "model.add(Activation('tanh'))\n",
    "model.add(Dropout(0.5))\n",
    "\n",
    "model.add(Dense(64, init = 'uniform'))\n",
    "model.add(Activation('tanh'))\n",
    "model.add(Dropout(0.5))\n",
    "\n",
    "model.add(Dense(10, init='uniform'))\n",
    "model.add(Activation('softmax'))\n",
    "\n",
    "sgd = SGD(lr=0.1, decay=1e-6, momentum=0.9, nesterov=True)\n",
    "model.compile(loss='categorical_crossentropy',\n",
    "              optimizer=sgd,\n",
    "              metrics=['accuracy'])\n",
    "```"
   ]
  },
  {
   "cell_type": "markdown",
   "metadata": {},
   "source": [
    "### Using convolutional neural nets\n",
    "This is from the tutorial at the [Keras Blog](https://blog.keras.io/building-powerful-image-classification-models-using-very-little-data.html) and this [gist](https://gist.github.com/fchollet/0830affa1f7f19fd47b06d4cf89ed44d)."
   ]
  },
  {
   "cell_type": "code",
   "execution_count": 63,
   "metadata": {
    "collapsed": true
   },
   "outputs": [],
   "source": [
    "from keras.preprocessing.image import ImageDataGenerator, array_to_img, img_to_array, load_img\n",
    "from keras.models import Sequential\n",
    "from keras.layers import Convolution2D, MaxPooling2D\n",
    "from keras.layers import Activation, Dropout, Flatten, Dense\n",
    "from os import getcwd,listdir\n",
    "from os.path import join,split"
   ]
  },
  {
   "cell_type": "code",
   "execution_count": 78,
   "metadata": {
    "collapsed": false
   },
   "outputs": [],
   "source": [
    "base = join(split(split(getcwd())[0])[0],'data_local','dogs_cats')\n",
    "train_data_dir = join(base, 'train')\n",
    "validation_data_dir = join(base, 'validation')\n",
    "nb_train_samples = 2000\n",
    "nb_validation_samples = 800\n",
    "nb_epoch =10\n",
    "\n",
    "\n",
    "# create a data generator which rotates and screws with images\n",
    "train_datagen = ImageDataGenerator(rotation_range=40,\n",
    "                             rescale=1./255,\n",
    "                             shear_range= 0.2,\n",
    "                             zoom_range=0.2,\n",
    "                             horizontal_flip=True)\n",
    "\n",
    "\n",
    "test_datagen = ImageDataGenerator(rescale=1./255)\n",
    "                             "
   ]
  },
  {
   "cell_type": "code",
   "execution_count": 72,
   "metadata": {
    "collapsed": false
   },
   "outputs": [],
   "source": [
    "#set up dimensions of the images\n",
    "img_width , img_height = 150, 150\n",
    "# create the model \n",
    "\n",
    "model = Sequential()\n",
    "\n",
    "# first layer is 32 neuron 2d Convolutional layer for 3x3. then Max pooling\n",
    "# note we had to change the order of the input_shape for the backend tensorflow\n",
    "model.add(Convolution2D(32, 3, 3, input_shape=( img_width, img_height,3)))\n",
    "model.add(Activation('relu'))\n",
    "model.add(MaxPooling2D(pool_size=(2, 2)))\n",
    "\n",
    "# second layer is 32 neuron 2d Convolutional layer for 3x3. then Max pooling\n",
    "model.add(Convolution2D(nb_filter= 32,nb_row=3,nb_col=3))\n",
    "model.add(Activation('relu'))\n",
    "model.add(MaxPooling2D(pool_size=(2,2)))\n",
    "\n",
    "# another layer \n",
    "model.add(Convolution2D(32,3,3))\n",
    "model.add(Activation('relu'))\n",
    "model.add(MaxPooling2D(pool_size=(2,2)))\n",
    "\n",
    "\n",
    "#Now dense layer\n",
    "model.add(Flatten())\n",
    "model.add(Dense(64))\n",
    "model.add(Activation('relu'))\n",
    "model.add(Dropout(0.5))\n",
    "model.add(Dense(1))\n",
    "model.add(Activation('sigmoid'))\n",
    "\n",
    "model.compile(loss='binary_crossentropy',\n",
    "             optimizer = 'rmsprop',\n",
    "             metrics = ['accuracy'])\n",
    "\n",
    "\n"
   ]
  },
  {
   "cell_type": "code",
   "execution_count": 81,
   "metadata": {
    "collapsed": false
   },
   "outputs": [
    {
     "name": "stdout",
     "output_type": "stream",
     "text": [
      "Found 2002 images belonging to 2 classes.\n",
      "Found 800 images belonging to 2 classes.\n",
      "Epoch 1/10\n",
      "2002/2000 [==============================] - 66s - loss: 0.6945 - acc: 0.5080 - val_loss: 0.6898 - val_acc: 0.5763\n",
      "Epoch 2/10\n",
      "2002/2000 [==============================] - 63s - loss: 0.6882 - acc: 0.5480 - val_loss: 0.6822 - val_acc: 0.5437\n",
      "Epoch 3/10\n",
      "2002/2000 [==============================] - 63s - loss: 0.6775 - acc: 0.5764 - val_loss: 0.6440 - val_acc: 0.6587\n",
      "Epoch 4/10\n",
      "2002/2000 [==============================] - 63s - loss: 0.6437 - acc: 0.6224 - val_loss: 0.6226 - val_acc: 0.6438\n",
      "Epoch 5/10\n",
      "2002/2000 [==============================] - 62s - loss: 0.6243 - acc: 0.6364 - val_loss: 0.6411 - val_acc: 0.6175\n",
      "Epoch 6/10\n",
      "2002/2000 [==============================] - 63s - loss: 0.6276 - acc: 0.6578 - val_loss: 0.6067 - val_acc: 0.6538\n",
      "Epoch 7/10\n",
      "2002/2000 [==============================] - 63s - loss: 0.6141 - acc: 0.6723 - val_loss: 0.6033 - val_acc: 0.6412\n",
      "Epoch 8/10\n",
      "2002/2000 [==============================] - 64s - loss: 0.6082 - acc: 0.6743 - val_loss: 0.6475 - val_acc: 0.6488\n",
      "Epoch 9/10\n",
      "2002/2000 [==============================] - 63s - loss: 0.5917 - acc: 0.6783 - val_loss: 0.5950 - val_acc: 0.6875\n",
      "Epoch 10/10\n",
      "2002/2000 [==============================] - 67s - loss: 0.5810 - acc: 0.6833 - val_loss: 0.6893 - val_acc: 0.6262\n"
     ]
    },
    {
     "data": {
      "text/plain": [
       "<keras.callbacks.History at 0x10db94f90>"
      ]
     },
     "execution_count": 81,
     "metadata": {},
     "output_type": "execute_result"
    }
   ],
   "source": [
    "train_generator = train_datagen.flow_from_directory(train_data_dir,\n",
    "                                                    target_size =(img_width, img_height),\n",
    "                                                    batch_size=32,\n",
    "                                                    class_mode = 'binary')\n",
    "\n",
    "validation_generator = train_datagen.flow_from_directory(validation_data_dir,\n",
    "                                                    target_size =(img_width, img_height),\n",
    "                                                    batch_size=32,\n",
    "                                                    class_mode = 'binary')\n",
    "\n",
    "\n",
    "model.fit_generator(train_generator,\n",
    "                   samples_per_epoch=nb_train_samples,\n",
    "                    nb_epoch=nb_epoch,\n",
    "                   validation_data = validation_generator,\n",
    "                   nb_val_samples = nb_validation_samples)"
   ]
  },
  {
   "cell_type": "code",
   "execution_count": 86,
   "metadata": {
    "collapsed": false
   },
   "outputs": [],
   "source": [
    "model.save_weights(join(base,'model1.h5'))"
   ]
  },
  {
   "cell_type": "code",
   "execution_count": 82,
   "metadata": {
    "collapsed": false
   },
   "outputs": [
    {
     "data": {
      "text/plain": [
       "'/Users/crivera5/Documents/NonIntuitProjects/Kaggle/ClassifiyingFish/data_local/dogs_cats'"
      ]
     },
     "execution_count": 82,
     "metadata": {},
     "output_type": "execute_result"
    }
   ],
   "source": [
    "base"
   ]
  },
  {
   "cell_type": "markdown",
   "metadata": {},
   "source": [
    "#### Script for using the VGG16\n",
    "This is the standard script for just using VGG16. "
   ]
  },
  {
   "cell_type": "code",
   "execution_count": 137,
   "metadata": {
    "collapsed": false
   },
   "outputs": [],
   "source": [
    "from keras.models import Sequential\n",
    "from keras.layers.core import Flatten, Dense, Dropout\n",
    "from keras.layers.convolutional import Convolution2D, MaxPooling2D, ZeroPadding2D\n",
    "from keras.optimizers import SGD\n",
    "import numpy as np\n",
    "\n",
    "def VGG_16(weights_path= None):\n",
    "    \"\"\"This implements the VGG_16 convolutional network for images. \n",
    "    Its been very slightly modified for using the TensorFlow Backend\n",
    "    \"\"\"\n",
    "    model = Sequential()\n",
    "    \n",
    "    #Convolutional block 1 with 64 output filters\n",
    "    model.add(ZeroPadding2D((1,1),input_shape=(224,224,3)))\n",
    "    model.add(Convolution2D(64, 3, 3, activation='relu'))\n",
    "    model.add(ZeroPadding2D((1,1)))\n",
    "    model.add(Convolution2D(64, 3, 3, activation='relu'))\n",
    "    model.add(MaxPooling2D((2,2), strides=(2,2)))\n",
    "    \n",
    "    \n",
    "    # Convolutional block 2 with 128 output filters\n",
    "    model.add(ZeroPadding2D((1,1)))\n",
    "    model.add(Convolution2D(128, 3, 3, activation='relu'))\n",
    "    model.add(ZeroPadding2D((1,1)))\n",
    "    model.add(Convolution2D(128, 3, 3, activation='relu'))\n",
    "    model.add(MaxPooling2D((2,2), strides=(2,2)))\n",
    "    \n",
    "    # Convolutional block 3 with 256 output filters\n",
    "    model.add(ZeroPadding2D((1,1)))\n",
    "    model.add(Convolution2D(256, 3, 3, activation='relu'))\n",
    "    model.add(ZeroPadding2D((1,1)))\n",
    "    model.add(Convolution2D(256, 3, 3, activation='relu'))\n",
    "    model.add(ZeroPadding2D((1,1)))\n",
    "    model.add(Convolution2D(256, 3, 3, activation='relu'))\n",
    "    model.add(MaxPooling2D((2,2), strides=(2,2)))\n",
    "    \n",
    "    \n",
    "    # Convolutional block 3 with 512 output filters\n",
    "    model.add(ZeroPadding2D((1,1)))\n",
    "    model.add(Convolution2D(512, 3, 3, activation='relu'))\n",
    "    model.add(ZeroPadding2D((1,1)))\n",
    "    model.add(Convolution2D(512, 3, 3, activation='relu'))\n",
    "    model.add(ZeroPadding2D((1,1)))\n",
    "    model.add(Convolution2D(512, 3, 3, activation='relu'))\n",
    "    model.add(MaxPooling2D((2,2), strides=(2,2)))\n",
    "\n",
    "    # Convolutional block 3 with 512 output filters\n",
    "    model.add(ZeroPadding2D((1,1)))\n",
    "    model.add(Convolution2D(512, 3, 3, activation='relu'))\n",
    "    model.add(ZeroPadding2D((1,1)))\n",
    "    model.add(Convolution2D(512, 3, 3, activation='relu'))\n",
    "    model.add(ZeroPadding2D((1,1)))\n",
    "    model.add(Convolution2D(512, 3, 3, activation='relu'))\n",
    "    model.add(MaxPooling2D((2,2), strides=(2,2)))\n",
    "\n",
    "    # Fully Connected classifier\n",
    "    model.add(Flatten())\n",
    "    model.add(Dense(4096, activation='relu'))\n",
    "    model.add(Dropout(0.5))\n",
    "    model.add(Dense(4096, activation='relu'))\n",
    "    model.add(Dropout(0.5))\n",
    "    model.add(Dense(1000, activation='softmax'))\n",
    "    \n",
    "    if weights_path is None: \n",
    "        weights_path = '/Users/crivera5/Documents/NonIntuitProjects/Kaggle/ClassifiyingFish/data_local/vgg16_weights.h5'\n",
    "\n",
    "    #if weights_path:\n",
    "    #    model.load_weights(weights_path)\n",
    "    return model\n",
    "\n",
    "\n",
    "    \n",
    "model = VGG_16()   "
   ]
  },
  {
   "cell_type": "markdown",
   "metadata": {
    "collapsed": false
   },
   "source": [
    "### Using VGG16 for transfer learning. \n",
    "In this I am following the tutorial to do transfer learning."
   ]
  },
  {
   "cell_type": "code",
   "execution_count": 193,
   "metadata": {
    "collapsed": false
   },
   "outputs": [],
   "source": [
    "import os \n",
    "import h5py\n",
    "import numpy as np\n",
    "from keras.preprocessing.image import ImageDataGenerator\n",
    "from keras.models import Sequential\n",
    "from keras.layers import Convolution2D, MaxPooling2D, ZeroPadding2D\n",
    "from keras.layers import Activation, Dropout, Flatten, Dense\n",
    "\n",
    "# path to the model weights file\n",
    "\n",
    "weights_path = join(split(base)[0],'vgg16_weights.h5')\n",
    "top_model_weights_path = join(base, 'bottleneck_fc_model.h5')\n",
    "\n",
    "# dimensions of the imates\n",
    "img_width , img_height = 150, 150\n",
    "\n",
    "train_data_dir = join(base,'train')\n",
    "validation_data_dir = join('validation')\n",
    "nb_train_samples = 2000\n",
    "nb_validation_sampeles = 800\n",
    "nb_epoch = 50\n",
    "\n",
    "def load_VGG16_covolutional_layers():\n",
    "    \n",
    "    \n",
    "    model = Sequential()\n",
    "    # build the VGG16 network \n",
    "    #Convolutional block 1 with 64 output filters\n",
    "    model.add(ZeroPadding2D((1,1),input_shape=(img_width,img_height,3)))\n",
    "    model.add(Convolution2D(64, 3, 3, activation='relu', name='conv1_1'))\n",
    "    model.add(ZeroPadding2D((1,1)))\n",
    "    model.add(Convolution2D(64, 3, 3, activation='relu', name='conv1_2'))\n",
    "    model.add(MaxPooling2D((2,2), strides=(2,2)))\n",
    "    \n",
    "    \n",
    "    # Convolutional block 2 with 128 output filters\n",
    "    model.add(ZeroPadding2D((1,1)))\n",
    "    model.add(Convolution2D(128, 3, 3, activation='relu', name='conv2_1'))\n",
    "    model.add(ZeroPadding2D((1,1)))\n",
    "    model.add(Convolution2D(128, 3, 3, activation='relu', name='conv2_2'))\n",
    "    model.add(MaxPooling2D((2,2), strides=(2,2)))\n",
    "    \n",
    "    # Convolutional block 3 with 256 output filters\n",
    "    model.add(ZeroPadding2D((1,1)))\n",
    "    model.add(Convolution2D(256, 3, 3, activation='relu', name='conv3_1'))\n",
    "    model.add(ZeroPadding2D((1,1)))\n",
    "    model.add(Convolution2D(256, 3, 3, activation='relu', name='conv3_2'))\n",
    "    model.add(ZeroPadding2D((1,1)))\n",
    "    model.add(Convolution2D(256, 3, 3, activation='relu', name='conv3_3'))\n",
    "    model.add(MaxPooling2D((2,2), strides=(2,2)))\n",
    "    \n",
    "    \n",
    "    # Convolutional block 3 with 512 output filters\n",
    "    model.add(ZeroPadding2D((1,1)))\n",
    "    model.add(Convolution2D(512, 3, 3, activation='relu', name='conv4_1'))\n",
    "    model.add(ZeroPadding2D((1,1)))\n",
    "    model.add(Convolution2D(512, 3, 3, activation='relu', name='conv4_2'))\n",
    "    model.add(ZeroPadding2D((1,1)))\n",
    "    model.add(Convolution2D(512, 3, 3, activation='relu', name='conv4_3'))\n",
    "    model.add(MaxPooling2D((2,2), strides=(2,2)))\n",
    "\n",
    "    # Convolutional block 3 with 512 output filters\n",
    "    model.add(ZeroPadding2D((1,1)))\n",
    "    model.add(Convolution2D(512, 3, 3, activation='relu', name='conv5_1'))\n",
    "    model.add(ZeroPadding2D((1,1)))\n",
    "    model.add(Convolution2D(512, 3, 3, activation='relu', name='conv5_2'))\n",
    "    model.add(ZeroPadding2D((1,1)))\n",
    "    model.add(Convolution2D(512, 3, 3, activation='relu', name='conv5_3'))\n",
    "    model.add(MaxPooling2D((2,2), strides=(2,2)))\n",
    "    \n",
    "    # load the weights of the VGG16 networks\n",
    "    # (trained on ImageNet, won the ILSVRC competition in 2014)\n",
    "    # note: when there is a complete match between your model definition\n",
    "    # and your weight savefile, you can simply call model.load_weights(filename)\n",
    "    assert os.path.exists(weights_path), 'Model weights not found (see \"weights_path\" variable in script).'\n",
    "    f = h5py.File(weights_path)\n",
    "    for k in range(f.attrs['nb_layers']):\n",
    "        if k >= len(model.layers):\n",
    "            # we don't look at the last (fully-connected) layers in the savefile\n",
    "            break\n",
    "        \n",
    "        g = f['layer_{}'.format(k)]\n",
    "        weights = [g['param_{}'.format(p)] for p in range(g.attrs['nb_params'])]\n",
    "    f.close()\n",
    "    return model\n",
    "    \n"
   ]
  },
  {
   "cell_type": "code",
   "execution_count": null,
   "metadata": {
    "collapsed": true
   },
   "outputs": [],
   "source": [
    "model = load_VGG16_covolutional_layers()\n",
    "\n",
    "datagen = ImageDataGenerator(rescale=1./255)\n",
    "generator = datagen.flow_from_directory(\n",
    "            train_data_dir,\n",
    "            target_size=(img_width, img_height),\n",
    "            batch_size=32,\n",
    "            class_mode=None,\n",
    "            shuffle=False)\n",
    "bottleneck_features_train = model.predict_generator(generator, nb_train_samples)\n",
    "np.save(open(join(base,'bottleneck_features_train.npy'), 'w'), bottleneck_features_train)\n",
    "\n",
    "generator = datagen.flow_from_directory(\n",
    "            validation_data_dir,\n",
    "            target_size=(img_width, img_height),\n",
    "            batch_size=32,\n",
    "            class_mode=None,\n",
    "            shuffle=False)\n",
    "bottleneck_features_validation = model.predict_generator(generator, nb_validation_samples)\n",
    "\n",
    "np.save(open(join(base,'bottleneck_features_validation.npy'), 'w'), bottleneck_features_validation)"
   ]
  },
  {
   "cell_type": "code",
   "execution_count": 243,
   "metadata": {
    "collapsed": false
   },
   "outputs": [],
   "source": [
    "def save_bottleneck_features():\n",
    "    datagen = ImageDataGenerator(rescale=1./255)\n",
    "\n",
    "    model = load_VGG16_covolutional_layers()\n",
    "    generator = datagen.flow_from_directory(\n",
    "            train_data_dir,\n",
    "            target_size=(img_width, img_height),\n",
    "            batch_size=32,\n",
    "            class_mode=None,\n",
    "            shuffle=False)\n",
    "    bottleneck_features_train = model.predict_generator(generator, nb_train_samples)\n",
    "    np.save(open(join(base,'bottleneck_features_train.npy'), 'w'), bottleneck_features_train)\n",
    "\n",
    "    generator = datagen.flow_from_directory(\n",
    "            validation_data_dir,\n",
    "            target_size=(img_width, img_height),\n",
    "            batch_size=32,\n",
    "            class_mode=None,\n",
    "            shuffle=False)\n",
    "    bottleneck_features_validation = model.predict_generator(generator, nb_validation_samples)\n",
    "    np.save(open(join(base,'bottleneck_features_validation.npy'), 'w'), bottleneck_features_validation)"
   ]
  },
  {
   "cell_type": "code",
   "execution_count": 252,
   "metadata": {
    "collapsed": false
   },
   "outputs": [
    {
     "name": "stdout",
     "output_type": "stream",
     "text": [
      "Found 2002 images belonging to 2 classes.\n"
     ]
    }
   ],
   "source": [
    "generator = datagen.flow_from_directory(\n",
    "            train_data_dir,\n",
    "            target_size=(img_width, img_height),\n",
    "            batch_size=32,\n",
    "            class_mode=None,\n",
    "            shuffle=False)"
   ]
  },
  {
   "cell_type": "code",
   "execution_count": 249,
   "metadata": {
    "collapsed": false
   },
   "outputs": [],
   "source": [
    "image = generator.next()"
   ]
  },
  {
   "cell_type": "code",
   "execution_count": null,
   "metadata": {
    "collapsed": true
   },
   "outputs": [],
   "source": [
    "len(res)"
   ]
  },
  {
   "cell_type": "code",
   "execution_count": null,
   "metadata": {
    "collapsed": true
   },
   "outputs": [],
   "source": [
    "res"
   ]
  },
  {
   "cell_type": "code",
   "execution_count": null,
   "metadata": {
    "collapsed": true
   },
   "outputs": [],
   "source": []
  }
 ],
 "metadata": {
  "kernelspec": {
   "display_name": "Python 2",
   "language": "python",
   "name": "python2"
  },
  "language_info": {
   "codemirror_mode": {
    "name": "ipython",
    "version": 2
   },
   "file_extension": ".py",
   "mimetype": "text/x-python",
   "name": "python",
   "nbconvert_exporter": "python",
   "pygments_lexer": "ipython2",
   "version": "2.7.11"
  }
 },
 "nbformat": 4,
 "nbformat_minor": 1
}
